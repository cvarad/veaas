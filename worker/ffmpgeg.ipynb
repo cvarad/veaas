{
 "cells": [
  {
   "cell_type": "code",
   "execution_count": 2,
   "metadata": {},
   "outputs": [
    {
     "ename": "ModuleNotFoundError",
     "evalue": "No module named 'matplotlib'",
     "output_type": "error",
     "traceback": [
      "\u001b[0;31m---------------------------------------------------------------------------\u001b[0m",
      "\u001b[0;31mModuleNotFoundError\u001b[0m                       Traceback (most recent call last)",
      "Cell \u001b[0;32mIn[2], line 2\u001b[0m\n\u001b[1;32m      1\u001b[0m \u001b[39mfrom\u001b[39;00m \u001b[39mipywidgets\u001b[39;00m \u001b[39mimport\u001b[39;00m interact\n\u001b[0;32m----> 2\u001b[0m \u001b[39mfrom\u001b[39;00m \u001b[39mmatplotlib\u001b[39;00m \u001b[39mimport\u001b[39;00m pyplot \u001b[39mas\u001b[39;00m plt\n\u001b[1;32m      3\u001b[0m \u001b[39mimport\u001b[39;00m \u001b[39mffmpeg\u001b[39;00m\n\u001b[1;32m      4\u001b[0m \u001b[39mimport\u001b[39;00m \u001b[39mipywidgets\u001b[39;00m \u001b[39mas\u001b[39;00m \u001b[39mwidgets\u001b[39;00m\n",
      "\u001b[0;31mModuleNotFoundError\u001b[0m: No module named 'matplotlib'"
     ]
    }
   ],
   "source": [
    "from ipywidgets import interact\n",
    "from matplotlib import pyplot as plt\n",
    "import ffmpeg\n",
    "import ipywidgets as widgets\n",
    "import numpy as np"
   ]
  },
  {
   "cell_type": "code",
   "execution_count": 16,
   "metadata": {},
   "outputs": [
    {
     "name": "stderr",
     "output_type": "stream",
     "text": [
      "ffmpeg version 5.1.2 Copyright (c) 2000-2022 the FFmpeg developers\n",
      "  built with Apple clang version 14.0.0 (clang-1400.0.29.202)\n",
      "  configuration: --prefix=/opt/homebrew/Cellar/ffmpeg/5.1.2 --enable-shared --enable-pthreads --enable-version3 --cc=clang --host-cflags= --host-ldflags= --enable-ffplay --enable-gnutls --enable-gpl --enable-libaom --enable-libbluray --enable-libdav1d --enable-libmp3lame --enable-libopus --enable-librav1e --enable-librist --enable-librubberband --enable-libsnappy --enable-libsrt --enable-libtesseract --enable-libtheora --enable-libvidstab --enable-libvmaf --enable-libvorbis --enable-libvpx --enable-libwebp --enable-libx264 --enable-libx265 --enable-libxml2 --enable-libxvid --enable-lzma --enable-libfontconfig --enable-libfreetype --enable-frei0r --enable-libass --enable-libopencore-amrnb --enable-libopencore-amrwb --enable-libopenjpeg --enable-libspeex --enable-libsoxr --enable-libzmq --enable-libzimg --disable-libjack --disable-indev=jack --enable-videotoolbox --enable-neon\n",
      "  libavutil      57. 28.100 / 57. 28.100\n",
      "  libavcodec     59. 37.100 / 59. 37.100\n",
      "  libavformat    59. 27.100 / 59. 27.100\n",
      "  libavdevice    59.  7.100 / 59.  7.100\n",
      "  libavfilter     8. 44.100 /  8. 44.100\n",
      "  libswscale      6.  7.100 /  6.  7.100\n",
      "  libswresample   4.  7.100 /  4.  7.100\n",
      "  libpostproc    56.  6.100 / 56.  6.100\n",
      "Input #0, mov,mp4,m4a,3gp,3g2,mj2, from 'in.mp4':\n",
      "  Metadata:\n",
      "    major_brand     : isom\n",
      "    minor_version   : 512\n",
      "    compatible_brands: isomiso2avc1mp41\n",
      "    encoder         : Lavf57.71.100\n",
      "  Duration: 00:00:07.04, start: 0.000000, bitrate: 382 kb/s\n",
      "  Stream #0:0[0x1](und): Video: h264 (Main) (avc1 / 0x31637661), yuv420p(progressive), 320x240 [SAR 1:1 DAR 4:3], 251 kb/s, 29.97 fps, 29.97 tbr, 90k tbn (default)\n",
      "    Metadata:\n",
      "      handler_name    : VideoHandler\n",
      "      vendor_id       : [0][0][0][0]\n",
      "  Stream #0:1[0x2](und): Audio: aac (LC) (mp4a / 0x6134706D), 44100 Hz, stereo, fltp, 125 kb/s (default)\n",
      "    Metadata:\n",
      "      handler_name    : SoundHandler\n",
      "      vendor_id       : [0][0][0][0]\n",
      "Stream mapping:\n",
      "  Stream #0:0 (h264) -> drawbox:default\n",
      "  drawbox:default -> Stream #0:0 (libx264)\n",
      "Press [q] to stop, [?] for help\n",
      "[libx264 @ 0x153e3e8d0] using SAR=1/1\n",
      "[libx264 @ 0x153e3e8d0] using cpu capabilities: ARMv8 NEON\n",
      "[libx264 @ 0x153e3e8d0] profile High, level 1.3, 4:2:0, 8-bit\n",
      "[libx264 @ 0x153e3e8d0] 264 - core 164 r3095 baee400 - H.264/MPEG-4 AVC codec - Copyleft 2003-2022 - http://www.videolan.org/x264.html - options: cabac=1 ref=3 deblock=1:0:0 analyse=0x3:0x113 me=hex subme=7 psy=1 psy_rd=1.00:0.00 mixed_ref=1 me_range=16 chroma_me=1 trellis=1 8x8dct=1 cqm=0 deadzone=21,11 fast_pskip=1 chroma_qp_offset=-2 threads=7 lookahead_threads=1 sliced_threads=0 nr=0 decimate=1 interlaced=0 bluray_compat=0 constrained_intra=0 bframes=3 b_pyramid=2 b_adapt=1 b_bias=0 direct=1 weightb=1 open_gop=0 weightp=2 keyint=250 keyint_min=25 scenecut=40 intra_refresh=0 rc_lookahead=40 rc=crf mbtree=1 crf=23.0 qcomp=0.60 qpmin=0 qpmax=69 qpstep=4 ip_ratio=1.40 aq=1:1.00\n",
      "Output #0, mp4, to './out.mp4':\n",
      "  Metadata:\n",
      "    major_brand     : isom\n",
      "    minor_version   : 512\n",
      "    compatible_brands: isomiso2avc1mp41\n",
      "    encoder         : Lavf59.27.100\n",
      "  Stream #0:0: Video: h264 (avc1 / 0x31637661), yuv420p(progressive), 320x240 [SAR 1:1 DAR 4:3], q=2-31, 29.97 fps, 30k tbn\n",
      "    Metadata:\n",
      "      encoder         : Lavc59.37.100 libx264\n",
      "    Side data:\n",
      "      cpb: bitrate max/min/avg: 0/0/0 buffer size: 0 vbv_delay: N/A\n",
      "frame=  209 fps=0.0 q=-1.0 Lsize=     123kB time=00:00:06.87 bitrate= 146.8kbits/s speed=78.1x    \n",
      "video:120kB audio:0kB subtitle:0kB other streams:0kB global headers:0kB muxing overhead: 2.732316%\n",
      "[libx264 @ 0x153e3e8d0] frame I:8     Avg QP:20.64  size:  5821\n",
      "[libx264 @ 0x153e3e8d0] frame P:57    Avg QP:24.97  size:  1210\n",
      "[libx264 @ 0x153e3e8d0] frame B:144   Avg QP:31.58  size:    45\n",
      "[libx264 @ 0x153e3e8d0] consecutive B-frames:  5.3%  5.7%  8.6% 80.4%\n",
      "[libx264 @ 0x153e3e8d0] mb I  I16..4:  4.5% 37.2% 58.3%\n",
      "[libx264 @ 0x153e3e8d0] mb P  I16..4:  4.1%  9.9%  8.0%  P16..4: 10.7%  2.4%  1.7%  0.0%  0.0%    skip:63.2%\n",
      "[libx264 @ 0x153e3e8d0] mb B  I16..4:  0.2%  0.1%  0.0%  B16..8:  7.5%  0.2%  0.0%  direct: 0.0%  skip:92.0%  L0:51.9% L1:47.5% BI: 0.5%\n",
      "[libx264 @ 0x153e3e8d0] 8x8 transform intra:41.6% inter:68.6%\n",
      "[libx264 @ 0x153e3e8d0] coded y,uvDC,uvAC intra: 60.1% 2.4% 0.7% inter: 2.3% 0.0% 0.0%\n",
      "[libx264 @ 0x153e3e8d0] i16 v,h,dc,p: 41% 30% 22%  7%\n",
      "[libx264 @ 0x153e3e8d0] i8 v,h,dc,ddl,ddr,vr,hd,vl,hu: 31% 12% 35%  7%  3%  2%  3%  3%  3%\n",
      "[libx264 @ 0x153e3e8d0] i4 v,h,dc,ddl,ddr,vr,hd,vl,hu: 30% 18% 20%  9%  5%  5%  4%  5%  4%\n",
      "[libx264 @ 0x153e3e8d0] i8c dc,h,v,p: 89%  5%  6%  0%\n",
      "[libx264 @ 0x153e3e8d0] Weighted P-Frames: Y:0.0% UV:0.0%\n",
      "[libx264 @ 0x153e3e8d0] ref P L0: 62.8% 17.9% 13.0%  6.3%\n",
      "[libx264 @ 0x153e3e8d0] ref B L0: 81.7% 16.1%  2.2%\n",
      "[libx264 @ 0x153e3e8d0] ref B L1: 92.9%  7.1%\n",
      "[libx264 @ 0x153e3e8d0] kb/s:140.03\n"
     ]
    },
    {
     "data": {
      "text/plain": [
       "(None, None)"
      ]
     },
     "execution_count": 16,
     "metadata": {},
     "output_type": "execute_result"
    }
   ],
   "source": [
    "import ffmpeg\n",
    "\n",
    "input = ffmpeg.input('in.mp4')\n",
    "# video = input.video.vflip()\n",
    "video = ffmpeg.drawbox(input,0, 0, 120, 120, color='red', thickness=5)\n",
    "out = ffmpeg.output(video, './out.mp4')\n",
    "out = ffmpeg.overwrite_output(out)\n",
    "out.run()"
   ]
  }
 ],
 "metadata": {
  "kernelspec": {
   "display_name": "Python 3.9.15 ('venv': venv)",
   "language": "python",
   "name": "python3"
  },
  "language_info": {
   "codemirror_mode": {
    "name": "ipython",
    "version": 3
   },
   "file_extension": ".py",
   "mimetype": "text/x-python",
   "name": "python",
   "nbconvert_exporter": "python",
   "pygments_lexer": "ipython3",
   "version": "3.9.15"
  },
  "orig_nbformat": 4,
  "vscode": {
   "interpreter": {
    "hash": "367ed57b1c4e566e6f7a3e5305b9853f88e1e67f46412daa729bd06ae8e5eb32"
   }
  }
 },
 "nbformat": 4,
 "nbformat_minor": 2
}
